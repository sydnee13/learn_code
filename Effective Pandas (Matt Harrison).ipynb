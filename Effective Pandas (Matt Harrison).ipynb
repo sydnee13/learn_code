{
 "cells": [
  {
   "cell_type": "code",
   "execution_count": null,
   "id": "73d894f3-779d-48b3-b364-f3fca985e1e6",
   "metadata": {
    "tags": []
   },
   "outputs": [],
   "source": [
    "# good code\n",
    "# chaining\n",
    "\n",
    "def tweak_autos(autos):\n",
    "    cols = [\"city08\", \"comb08\", \"highway08\", \"cylinders\", \"displ\", \"drive\", \"eng_dscr\", \n",
    "            \"fuelCost08\", \"make\", \"model\", \"trany\", \"range\", \"createdOn\", \"year\"]\n",
    "    return (autos\n",
    "            [cols]\n",
    "            .assign(cylinders=autos.cylinders.fillna(0).astype(\"int8\"),\n",
    "                    displ=autos.displ.fillna(0).astype(\"float16\"),\n",
    "                    drive=autos.drive.fillna(\"Other\").astype(\"category\"),\n",
    "                    automatic=autos.trany.str.contains(\"Auto\"),\n",
    "                    speeds=autos.trany.str.extract(r\"(\\d)+\").fillna(\"20\").astype(\"int8\"),\n",
    "                    createdOn=pd.to_datetime(autos.createdOn.replace({\" EDT\": \"-04:00\",\n",
    "                                                                      \" EST\": \"-05:00\"}, regex=True)),\n",
    "                    ffs=autos.eng_dscr.str.contains(\"FFS\")\n",
    "                   )\n",
    "            .astype({\"highway08\": \"int8\", \"city08\": \"int16\", \"comb08\": \"int16\", \"fuelCost\": \"int16\",\n",
    "                     \"range\": \"int16\", \"year\": \"int16\", \"make\": \"category\"})\n",
    "            .drop(columns=[\"trany\", \"eng_dscr\"])\n",
    "           )"
   ]
  },
  {
   "cell_type": "code",
   "execution_count": null,
   "id": "29fc0835-9970-47af-ae29-7169866373ba",
   "metadata": {},
   "outputs": [],
   "source": [
    "def country(val):\n",
    "    if val in {\"Chevrolet\", \"Ford\", \"Dodge\", \"GMC\", \"Tesla\"}:\n",
    "        return \"US\"\n",
    "    return \"Other\""
   ]
  },
  {
   "cell_type": "code",
   "execution_count": null,
   "id": "61735dd3-c096-462d-9681-aff7f054a251",
   "metadata": {},
   "outputs": [],
   "source": [
    "%%timeit\n",
    "(autos2\n",
    " .assign(country=autos2.make.apply(country))\n",
    ")"
   ]
  },
  {
   "cell_type": "code",
   "execution_count": null,
   "id": "1f8eab37-9e71-4dac-b92e-a188f422fdd4",
   "metadata": {},
   "outputs": [],
   "source": [
    "%%timeit\n",
    "values = {\"Chevrolet\", \"Ford\", \"Dodge\", \"GMC\", \"Tesla\"}\n",
    "(autos2\n",
    " .assign(country=\"US\")\n",
    " .assign(country=lambda df_:df_country.where(df_.make.isin(values), \"Other\"))\n",
    ")"
   ]
  },
  {
   "cell_type": "code",
   "execution_count": null,
   "id": "748784b2-cabd-407e-8c95-68640daedec3",
   "metadata": {
    "tags": []
   },
   "outputs": [],
   "source": [
    "%%timeit\n",
    "(autos2\n",
    " .assign(country=np.select([autos2.make.isin({\"Chevrolet\", \"Ford\", \"Dodge\", \"GMC\", \"Tesla\"})],\n",
    "                           [\"US\"], \"Other\"))"
   ]
  },
  {
   "cell_type": "code",
   "execution_count": null,
   "id": "c857f57e-3167-441a-a45e-fe2786cea927",
   "metadata": {},
   "outputs": [],
   "source": [
    "(autos2\n",
    " .assign(country=autos2.make.apply(country))\n",
    " .groupby([\"year\", \"country\"])\n",
    " .mean()\n",
    " .unstack()\n",
    " .city08\n",
    " .rolling(2)\n",
    " .mean().plot()\n",
    " .legend(bbox_to_anchor=(1,1))\n",
    ")"
   ]
  },
  {
   "cell_type": "code",
   "execution_count": null,
   "id": "17cd2eb1-7a16-4d4a-8649-34a815458cca",
   "metadata": {},
   "outputs": [],
   "source": [
    "def vals_gt(df_, num):\n",
    "    return df_[df_.gt(num)].dropna()\n",
    "\n",
    "(autos2\n",
    " .assign(country=autos2.make.apply(country))\n",
    " .groupby([\"year\", \"country\"])\n",
    " .count()\n",
    " .pipe(vals_gt, 700)\n",
    ")"
   ]
  }
 ],
 "metadata": {
  "kernelspec": {
   "display_name": "Data Science",
   "language": "python",
   "name": "data_science"
  },
  "language_info": {
   "codemirror_mode": {
    "name": "ipython",
    "version": 3
   },
   "file_extension": ".py",
   "mimetype": "text/x-python",
   "name": "python",
   "nbconvert_exporter": "python",
   "pygments_lexer": "ipython3",
   "version": "3.11.5"
  }
 },
 "nbformat": 4,
 "nbformat_minor": 5
}
